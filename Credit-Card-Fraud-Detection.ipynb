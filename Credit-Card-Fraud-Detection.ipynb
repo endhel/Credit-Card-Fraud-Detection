{
 "cells": [
  {
   "cell_type": "markdown",
   "metadata": {},
   "source": [
    "# Credit Card Fraud Detection\n",
    "\n",
    "In this project, we will address the issue of credit card fraud, one of the main concerns of financial institutions such as banks and *fintechs*. In Brazil, about 12.1 million people have been victims of some type of financial fraud in the last year. Translated into values, the financial blows surpassed the figure of BRL 1.8 billion in losses per year for the last 12 months.\n",
    "\n",
    "Among these frauds, those involving credit cards are of great relevance since their non-detection will result in considerable losses, both for the consumer and for the financial institution.\n",
    "\n",
    "Another factor to be considered is the amount of false positives, that is, those times when you tried to make a purchase and had your card preemptively blocked - which probably caused stress and embarrassment.\n",
    "\n",
    "For all these reasons, the investment in the area of ​​fraud detection through Artificial Intelligence has been growing every year, representing a great opportunity in *Data Science*.\n",
    "\n",
    "With large volumes of data as a historical basis, a machine learning algorithm just a little better than the previous ones already represents a savings of millions of Reais. And that is the challenge, to increasingly improve the use of algorithms aimed at inhibiting or preventing fraudulent transactions.\n",
    "\n",
    "## Solution Proposal\n",
    "\n",
    "To solve this problem, we will perform the following tasks:\n",
    "\n",
    "- **0.0.** Data Colection\n",
    "- **1.0.** Data Description\n",
    "- **2.0.** Feature Engineering\n",
    "- **3.0.** Data Filtering\n",
    "- **4.0.** Exploratory Data Analysis\n",
    "- **5.0.** Data Preparation\n",
    "- **6.0.** Feature Selection\n",
    "- **7.0.** Machine Learning Modeling\n",
    "- **9.0.** Translation and Interpretation of the Error\n",
    "- **10.0.** Deploy Model to Production"
   ]
  },
  {
   "cell_type": "code",
   "execution_count": 3,
   "metadata": {},
   "outputs": [
    {
     "data": {
      "image/jpeg": "[encoded data removed]",
      "text/plain": [
       "<IPython.core.display.Image object>"
      ]
     },
     "execution_count": 3,
     "metadata": {},
     "output_type": "execute_result"
    }
   ],
   "source": [
    "Image('img/card.jpg')"
   ]
  },
  {
   "cell_type": "markdown",
   "metadata": {},
   "source": [
    "# 0.0. Imports"
   ]
  },
  {
   "cell_type": "code",
   "execution_count": 4,
   "metadata": {},
   "outputs": [],
   "source": [
    "import pandas            as pd\n",
    "import numpy             as np\n",
    "import matplotlib.pyplot as plt\n",
    "import seaborn           as sns\n",
    "\n",
    "from IPython.display     import Image"
   ]
  },
  {
   "cell_type": "markdown",
   "metadata": {},
   "source": [
    "## 0.1. Helper Functions\n",
    "\n",
    "In this step, i'll documentation all of the functions that we will need to use in the next sections."
   ]
  },
  {
   "cell_type": "code",
   "execution_count": 5,
   "metadata": {},
   "outputs": [],
   "source": [
    "def jupyter_settings():\n",
    "    %matplotlib inline\n",
    "    %pylab inline\n",
    "    \n",
    "    plt.style.use( 'bmh' )\n",
    "    plt.rcParams['figure.figsize'] = [25, 12]\n",
    "    plt.rcParams['font.size'] = 24\n",
    "    \n",
    "    pd.options.display.max_columns = None\n",
    "    pd.options.display.max_rows = None\n",
    "    pd.set_option( 'display.expand_frame_repr', False )\n",
    "    \n",
    "    sns.set()"
   ]
  },
  {
   "cell_type": "code",
   "execution_count": 6,
   "metadata": {},
   "outputs": [
    {
     "name": "stdout",
     "output_type": "stream",
     "text": [
      "Populating the interactive namespace from numpy and matplotlib\n"
     ]
    }
   ],
   "source": [
    "jupyter_settings()"
   ]
  },
  {
   "cell_type": "markdown",
   "metadata": {},
   "source": [
    "## 0.2. Loading Data\n",
    "\n",
    "The data we will use in this project has been made available by some European credit card companies. The *dataset* represents the financial transactions that took place in the period of two days, where 492 frauds were classified among almost 290 thousand transactions.\n",
    "\n",
    "As you can see, this is an extremely unbalanced dataset, where fraud represents only 0.17% of the total.\n",
    "\n",
    "Another interesting detail is that the *features* are all numerical, and have been defaced (due to privacy and security issues). Thus, column names are represented by $[V1, V2, V3 \\dots, V28]$.\n",
    "\n",
    "<p align=center>\n",
    "<img src=\"img/atm.jpg\" width=\"50%\"></p>\n",
    "\n",
    "[On the original data page](https://www.kaggle.com/mlg-ulb/creditcardfraud) it is also reported that the variables have gone through a transformation known as Principal Component Analysis (*Principal Component Analysis* - PCA).\n",
    "\n",
    "PCA allows for dimensionality reduction while maintaining as much information as possible. To achieve this, the algorithm finds a new set of features - called **components**.\n",
    "\n",
    "These components are less than or equal to the original variables. In the case of this project, the components found by the PCA transformation are the columns $[V1, V2, V3 \\dots, V28]$."
   ]
  },
  {
   "cell_type": "code",
   "execution_count": 7,
   "metadata": {},
   "outputs": [
    {
     "data": {
      "text/html": [
       "<div>\n",
       "<style scoped>\n",
       "    .dataframe tbody tr th:only-of-type {\n",
       "        vertical-align: middle;\n",
       "    }\n",
       "\n",
       "    .dataframe tbody tr th {\n",
       "        vertical-align: top;\n",
       "    }\n",
       "\n",
       "    .dataframe thead th {\n",
       "        text-align: right;\n",
       "    }\n",
       "</style>\n",
       "<table border=\"1\" class=\"dataframe\">\n",
       "  <thead>\n",
       "    <tr style=\"text-align: right;\">\n",
       "      <th></th>\n",
       "      <th>Time</th>\n",
       "      <th>V1</th>\n",
       "      <th>V2</th>\n",
       "      <th>V3</th>\n",
       "      <th>V4</th>\n",
       "      <th>V5</th>\n",
       "      <th>V6</th>\n",
       "      <th>V7</th>\n",
       "      <th>V8</th>\n",
       "      <th>V9</th>\n",
       "      <th>V10</th>\n",
       "      <th>V11</th>\n",
       "      <th>V12</th>\n",
       "      <th>V13</th>\n",
       "      <th>V14</th>\n",
       "      <th>V15</th>\n",
       "      <th>V16</th>\n",
       "      <th>V17</th>\n",
       "      <th>V18</th>\n",
       "      <th>V19</th>\n",
       "      <th>V20</th>\n",
       "      <th>V21</th>\n",
       "      <th>V22</th>\n",
       "      <th>V23</th>\n",
       "      <th>V24</th>\n",
       "      <th>V25</th>\n",
       "      <th>V26</th>\n",
       "      <th>V27</th>\n",
       "      <th>V28</th>\n",
       "      <th>Amount</th>\n",
       "      <th>Class</th>\n",
       "    </tr>\n",
       "  </thead>\n",
       "  <tbody>\n",
       "    <tr>\n",
       "      <th>99942</th>\n",
       "      <td>67351.0</td>\n",
       "      <td>-2.115997</td>\n",
       "      <td>0.597886</td>\n",
       "      <td>0.05037</td>\n",
       "      <td>-0.594453</td>\n",
       "      <td>-1.366952</td>\n",
       "      <td>0.664806</td>\n",
       "      <td>3.051758</td>\n",
       "      <td>-0.687979</td>\n",
       "      <td>-0.153471</td>\n",
       "      <td>0.025365</td>\n",
       "      <td>0.916781</td>\n",
       "      <td>0.870203</td>\n",
       "      <td>0.707005</td>\n",
       "      <td>-0.383811</td>\n",
       "      <td>-1.226873</td>\n",
       "      <td>0.322247</td>\n",
       "      <td>-0.94387</td>\n",
       "      <td>-0.144476</td>\n",
       "      <td>-0.077868</td>\n",
       "      <td>-0.935687</td>\n",
       "      <td>-0.332657</td>\n",
       "      <td>0.410078</td>\n",
       "      <td>-0.079756</td>\n",
       "      <td>0.125948</td>\n",
       "      <td>0.290873</td>\n",
       "      <td>0.306608</td>\n",
       "      <td>-0.292019</td>\n",
       "      <td>-0.570386</td>\n",
       "      <td>449.0</td>\n",
       "      <td>0</td>\n",
       "    </tr>\n",
       "  </tbody>\n",
       "</table>\n",
       "</div>"
      ],
      "text/plain": [
       "          Time        V1        V2       V3        V4        V5        V6        V7        V8        V9       V10       V11       V12       V13       V14       V15       V16      V17       V18       V19       V20       V21       V22       V23       V24       V25       V26       V27       V28  Amount  Class\n",
       "99942  67351.0 -2.115997  0.597886  0.05037 -0.594453 -1.366952  0.664806  3.051758 -0.687979 -0.153471  0.025365  0.916781  0.870203  0.707005 -0.383811 -1.226873  0.322247 -0.94387 -0.144476 -0.077868 -0.935687 -0.332657  0.410078 -0.079756  0.125948  0.290873  0.306608 -0.292019 -0.570386   449.0      0"
      ]
     },
     "execution_count": 7,
     "metadata": {},
     "output_type": "execute_result"
    }
   ],
   "source": [
    "file_path = 'https://www.dropbox.com/s/b44o3t3ehmnx2b7/creditcard.csv?dl=1'\n",
    "\n",
    "df_raw = pd.read_csv( file_path )\n",
    "\n",
    "df_raw.sample()"
   ]
  },
  {
   "cell_type": "code",
   "execution_count": null,
   "metadata": {},
   "outputs": [],
   "source": []
  }
 ],
 "metadata": {
  "kernelspec": {
   "display_name": "Python 3",
   "language": "python",
   "name": "python3"
  },
  "language_info": {
   "codemirror_mode": {
    "name": "ipython",
    "version": 3
   },
   "file_extension": ".py",
   "mimetype": "text/x-python",
   "name": "python",
   "nbconvert_exporter": "python",
   "pygments_lexer": "ipython3",
   "version": "3.8.3"
  }
 },
 "nbformat": 4,
 "nbformat_minor": 4
}
